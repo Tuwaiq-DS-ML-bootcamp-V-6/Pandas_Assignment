{
 "cells": [
  {
   "cell_type": "code",
   "execution_count": null,
   "id": "a64c59ac-be3c-44b5-9a91-cd8c18a88620",
   "metadata": {},
   "outputs": [],
   "source": [
    "#Q1: Import pandas library\n",
    "import pands as pd"
   ]
  },
  {
   "cell_type": "code",
   "execution_count": 10,
   "id": "85085a6a-7898-4aef-9da6-ea31f15a46fe",
   "metadata": {},
   "outputs": [
    {
     "name": "stdout",
     "output_type": "stream",
     "text": [
      "        pos   flw   flg   bl  pic  lin   cl        cz     ni        erl   erc  \\\n",
      "0        44    48   325   33    1    0   12  0.000000  0.000   0.000000  0.00   \n",
      "1        10    66   321  150    1    0  213  0.000000  1.000  14.390000  1.97   \n",
      "2        33   970   308  101    1    1  436  0.000000  1.000  10.100000  0.30   \n",
      "3        70    86   360   14    1    0    0  1.000000  0.000   0.780000  0.06   \n",
      "4         3    21   285   73    1    0   93  0.000000  0.000  14.290000  0.00   \n",
      "...     ...   ...   ...  ...  ...  ...  ...       ...    ...        ...   ...   \n",
      "65321    13   145   642    0    1    0    7  0.461538  0.000  14.270000  0.58   \n",
      "65322   652  3000  1300  146    1    1  384  0.000000  0.389   8.520000  0.13   \n",
      "65323  1500  3700  3200  147    1    1  129  0.000000  0.111   9.390000  0.31   \n",
      "65324   329  1500  1800  218    1    1  290  0.055556  0.000   6.350000  0.26   \n",
      "65325   206   659   608   27    1    0   77  0.000000  0.333  25.549999  0.53   \n",
      "\n",
      "          lt     hc   pr     fo        cs           pi class  \n",
      "0      0.000  0.000  0.0  0.000  0.111111     0.094985     f  \n",
      "1      0.000  1.500  0.0  0.000  0.206826   230.412857     f  \n",
      "2      0.000  2.500  0.0  0.056  0.572174    43.569939     f  \n",
      "3      0.000  0.000  0.0  0.000  1.000000     5.859799     f  \n",
      "4      0.667  0.000  0.0  0.000  0.300494     0.126019     f  \n",
      "...      ...    ...  ...    ...       ...          ...   ...  \n",
      "65321  0.000  0.077  0.0  0.000  0.192308  1745.291260     r  \n",
      "65322  0.000  1.611  0.0  0.000  0.169917    54.629120     r  \n",
      "65323  0.722  0.000  0.0  0.056  0.058908   129.802048     r  \n",
      "65324  0.222  0.500  0.0  0.000  0.103174    53.402840     r  \n",
      "65325  0.222  0.222  0.0  0.167  0.017505   604.981445     r  \n",
      "\n",
      "[65326 rows x 18 columns]\n"
     ]
    }
   ],
   "source": [
    "#2\n",
    "import pandas as pd\n",
    "\n",
    "\n",
    "    \n",
    "df = pd.read_csv('instagram_users.csv')\n",
    "print(df)"
   ]
  },
  {
   "cell_type": "code",
   "execution_count": 12,
   "id": "e445fd85-444b-440e-aff0-bf9af2a3df03",
   "metadata": {},
   "outputs": [
    {
     "name": "stdout",
     "output_type": "stream",
     "text": [
      "Number of rows: 65326\n",
      "Number of columns: 18\n"
     ]
    }
   ],
   "source": [
    "#3\n",
    "import pandas as pd\n",
    "df = pd.read_csv('instagram_users.csv')\n",
    "num_rows, num_cols = df.shape\n",
    "print(\"Number of rows:\", num_rows)\n",
    "print(\"Number of columns:\", num_cols)\n"
   ]
  },
  {
   "cell_type": "code",
   "execution_count": 13,
   "id": "342c0b0a-8514-47a1-bc2c-eb0b971ba921",
   "metadata": {},
   "outputs": [
    {
     "name": "stdout",
     "output_type": "stream",
     "text": [
      "Size of the dataset: 1175868\n"
     ]
    }
   ],
   "source": [
    "#4\n",
    "import pandas as pd\n",
    "df = pd.read_csv('instagram_users.csv')\n",
    "dataset_size = df.size\n",
    "print(\"Size of the dataset:\", dataset_size)\n"
   ]
  },
  {
   "cell_type": "code",
   "execution_count": 14,
   "id": "10d43351-b0e2-4724-9718-c6e024149fe3",
   "metadata": {},
   "outputs": [
    {
     "name": "stdout",
     "output_type": "stream",
     "text": [
      "Data types of each column:\n",
      "pos        int64\n",
      "flw        int64\n",
      "flg        int64\n",
      "bl         int64\n",
      "pic        int64\n",
      "lin        int64\n",
      "cl         int64\n",
      "cz       float64\n",
      "ni       float64\n",
      "erl      float64\n",
      "erc      float64\n",
      "lt       float64\n",
      "hc       float64\n",
      "pr       float64\n",
      "fo       float64\n",
      "cs       float64\n",
      "pi       float64\n",
      "class     object\n",
      "dtype: object\n"
     ]
    }
   ],
   "source": [
    "#5\n",
    "import pandas as pd\n",
    "df = pd.read_csv('instagram_users.csv')\n",
    "column_data_types = df.dtypes\n",
    "\n",
    "print(\"Data types of each column:\")\n",
    "print(column_data_types)\n"
   ]
  },
  {
   "cell_type": "code",
   "execution_count": 15,
   "id": "fb32376e-13c0-4b4f-931b-f362db5d49ce",
   "metadata": {},
   "outputs": [
    {
     "name": "stdout",
     "output_type": "stream",
     "text": [
      "        pos   flw   flg   bl  pic  lin   cl        cz     ni        erl   erc  \\\n",
      "0        44    48   325   33    1    0   12  0.000000  0.000   0.000000  0.00   \n",
      "1        10    66   321  150    1    0  213  0.000000  1.000  14.390000  1.97   \n",
      "2        33   970   308  101    1    1  436  0.000000  1.000  10.100000  0.30   \n",
      "3        70    86   360   14    1    0    0  1.000000  0.000   0.780000  0.06   \n",
      "4         3    21   285   73    1    0   93  0.000000  0.000  14.290000  0.00   \n",
      "...     ...   ...   ...  ...  ...  ...  ...       ...    ...        ...   ...   \n",
      "65321    13   145   642    0    1    0    7  0.461538  0.000  14.270000  0.58   \n",
      "65322   652  3000  1300  146    1    1  384  0.000000  0.389   8.520000  0.13   \n",
      "65323  1500  3700  3200  147    1    1  129  0.000000  0.111   9.390000  0.31   \n",
      "65324   329  1500  1800  218    1    1  290  0.055556  0.000   6.350000  0.26   \n",
      "65325   206   659   608   27    1    0   77  0.000000  0.333  25.549999  0.53   \n",
      "\n",
      "          lt     hc   pr     fo        cs           pi class  \n",
      "0      0.000  0.000  0.0  0.000  0.111111     0.094985     f  \n",
      "1      0.000  1.500  0.0  0.000  0.206826   230.412857     f  \n",
      "2      0.000  2.500  0.0  0.056  0.572174    43.569939     f  \n",
      "3      0.000  0.000  0.0  0.000  1.000000     5.859799     f  \n",
      "4      0.667  0.000  0.0  0.000  0.300494     0.126019     f  \n",
      "...      ...    ...  ...    ...       ...          ...   ...  \n",
      "65321  0.000  0.077  0.0  0.000  0.192308  1745.291260     r  \n",
      "65322  0.000  1.611  0.0  0.000  0.169917    54.629120     r  \n",
      "65323  0.722  0.000  0.0  0.056  0.058908   129.802048     r  \n",
      "65324  0.222  0.500  0.0  0.000  0.103174    53.402840     r  \n",
      "65325  0.222  0.222  0.0  0.167  0.017505   604.981445     r  \n",
      "\n",
      "[65326 rows x 18 columns]\n"
     ]
    }
   ],
   "source": [
    "#6\n",
    "import pandas as pd\n",
    "df = pd.read_csv('instagram_users.csv')\n",
    "print(df)\n"
   ]
  },
  {
   "cell_type": "code",
   "execution_count": 16,
   "id": "190d7948-7359-41c4-b714-cfb5e979546a",
   "metadata": {},
   "outputs": [
    {
     "name": "stdout",
     "output_type": "stream",
     "text": [
      "   pos  flw  flg   bl  pic  lin   cl   cz   ni    erl   erc     lt   hc   pr  \\\n",
      "0   44   48  325   33    1    0   12  0.0  0.0   0.00  0.00  0.000  0.0  0.0   \n",
      "1   10   66  321  150    1    0  213  0.0  1.0  14.39  1.97  0.000  1.5  0.0   \n",
      "2   33  970  308  101    1    1  436  0.0  1.0  10.10  0.30  0.000  2.5  0.0   \n",
      "3   70   86  360   14    1    0    0  1.0  0.0   0.78  0.06  0.000  0.0  0.0   \n",
      "4    3   21  285   73    1    0   93  0.0  0.0  14.29  0.00  0.667  0.0  0.0   \n",
      "\n",
      "      fo        cs          pi class  \n",
      "0  0.000  0.111111    0.094985     f  \n",
      "1  0.000  0.206826  230.412857     f  \n",
      "2  0.056  0.572174   43.569939     f  \n",
      "3  0.000  1.000000    5.859799     f  \n",
      "4  0.000  0.300494    0.126019     f  \n"
     ]
    }
   ],
   "source": [
    "#7\n",
    "import pandas as pd\n",
    "df = pd.read_csv('instagram_users.csv')\n",
    "print(df.head())\n"
   ]
  },
  {
   "cell_type": "code",
   "execution_count": 17,
   "id": "f0cd22a4-c52c-4638-8337-e17e23677839",
   "metadata": {},
   "outputs": [
    {
     "name": "stdout",
     "output_type": "stream",
     "text": [
      "        pos   flw   flg   bl  pic  lin   cl        cz     ni        erl   erc  \\\n",
      "65321    13   145   642    0    1    0    7  0.461538  0.000  14.270000  0.58   \n",
      "65322   652  3000  1300  146    1    1  384  0.000000  0.389   8.520000  0.13   \n",
      "65323  1500  3700  3200  147    1    1  129  0.000000  0.111   9.390000  0.31   \n",
      "65324   329  1500  1800  218    1    1  290  0.055556  0.000   6.350000  0.26   \n",
      "65325   206   659   608   27    1    0   77  0.000000  0.333  25.549999  0.53   \n",
      "\n",
      "          lt     hc   pr     fo        cs           pi class  \n",
      "65321  0.000  0.077  0.0  0.000  0.192308  1745.291260     r  \n",
      "65322  0.000  1.611  0.0  0.000  0.169917    54.629120     r  \n",
      "65323  0.722  0.000  0.0  0.056  0.058908   129.802048     r  \n",
      "65324  0.222  0.500  0.0  0.000  0.103174    53.402840     r  \n",
      "65325  0.222  0.222  0.0  0.167  0.017505   604.981445     r  \n"
     ]
    }
   ],
   "source": [
    "#8\n",
    "import pandas as pd\n",
    "df = pd.read_csv('instagram_users.csv')\n",
    "print(df.tail())\n"
   ]
  },
  {
   "cell_type": "code",
   "execution_count": 18,
   "id": "1e40fb61-3e01-4b28-a879-2b2031d7c725",
   "metadata": {},
   "outputs": [
    {
     "name": "stdout",
     "output_type": "stream",
     "text": [
      "Total number of null values: 0\n"
     ]
    }
   ],
   "source": [
    "#9\n",
    "import pandas as pd\n",
    "df = pd.read_csv('instagram_users.csv')\n",
    "total_null_values = df.isnull().sum().sum()\n",
    "print(\"Total number of null values:\", total_null_values)\n"
   ]
  },
  {
   "cell_type": "code",
   "execution_count": 19,
   "id": "66117a7a-1c2b-41e0-a7b0-8841d4731559",
   "metadata": {},
   "outputs": [
    {
     "name": "stdout",
     "output_type": "stream",
     "text": [
      "Rows with duplicate values:\n",
      "       pos  flw   flg  bl  pic  lin  cl   cz   ni  erl  erc   lt   hc   pr  \\\n",
      "4118     0    0     0   0    0    0  -1  0.0  0.0  0.0  0.0  0.0  0.0  0.0   \n",
      "4165     0   30   149   0    1    0   0  0.0  0.0  0.0  0.0  0.0  0.0  0.0   \n",
      "5812     0    0     0   0    0    0  -1  0.0  0.0  0.0  0.0  0.0  0.0  0.0   \n",
      "6500     0    0     0   0    0    0  -1  0.0  0.0  0.0  0.0  0.0  0.0  0.0   \n",
      "8134     0    0     0   0    0    0  -1  0.0  0.0  0.0  0.0  0.0  0.0  0.0   \n",
      "...    ...  ...   ...  ..  ...  ...  ..  ...  ...  ...  ...  ...  ...  ...   \n",
      "32745    0    0     0   0    0    0  -1  0.0  0.0  0.0  0.0  0.0  0.0  0.0   \n",
      "32747    0   34  7500   0    1    0   0  0.0  0.0  0.0  0.0  0.0  0.0  0.0   \n",
      "32748    0   77  7400   0    1    0   0  0.0  0.0  0.0  0.0  0.0  0.0  0.0   \n",
      "32749    0   70  7300   0    0    0   0  0.0  0.0  0.0  0.0  0.0  0.0  0.0   \n",
      "32764    0    0     0   0    0    0  -1  0.0  0.0  0.0  0.0  0.0  0.0  0.0   \n",
      "\n",
      "        fo   cs   pi class  \n",
      "4118   0.0  0.0  0.0     f  \n",
      "4165   0.0  1.0  0.0     f  \n",
      "5812   0.0  0.0  0.0     f  \n",
      "6500   0.0  0.0  0.0     f  \n",
      "8134   0.0  0.0  0.0     f  \n",
      "...    ...  ...  ...   ...  \n",
      "32745  0.0  0.0  0.0     f  \n",
      "32747  0.0  1.0  0.0     f  \n",
      "32748  0.0  1.0  0.0     f  \n",
      "32749  0.0  1.0  0.0     f  \n",
      "32764  0.0  0.0  0.0     f  \n",
      "\n",
      "[1082 rows x 18 columns]\n"
     ]
    }
   ],
   "source": [
    "#10\n",
    "import pandas as pd\n",
    "\n",
    "df = pd.read_csv('instagram_users.csv')\n",
    "\n",
    "duplicate_rows = df[df.duplicated()]\n",
    "print(\"Rows with duplicate values:\")\n",
    "print(duplicate_rows)\n"
   ]
  },
  {
   "cell_type": "code",
   "execution_count": 20,
   "id": "130d9269-f3a9-4300-8fcb-ed28cafd2cf4",
   "metadata": {},
   "outputs": [
    {
     "name": "stdout",
     "output_type": "stream",
     "text": [
      "        pos   flw   flg   bl  pic  lin   cl        cz     ni        erl   erc  \\\n",
      "0        44    48   325   33    1    0   12  0.000000  0.000   0.000000  0.00   \n",
      "1        10    66   321  150    1    0  213  0.000000  1.000  14.390000  1.97   \n",
      "2        33   970   308  101    1    1  436  0.000000  1.000  10.100000  0.30   \n",
      "3        70    86   360   14    1    0    0  1.000000  0.000   0.780000  0.06   \n",
      "4         3    21   285   73    1    0   93  0.000000  0.000  14.290000  0.00   \n",
      "...     ...   ...   ...  ...  ...  ...  ...       ...    ...        ...   ...   \n",
      "65321    13   145   642    0    1    0    7  0.461538  0.000  14.270000  0.58   \n",
      "65322   652  3000  1300  146    1    1  384  0.000000  0.389   8.520000  0.13   \n",
      "65323  1500  3700  3200  147    1    1  129  0.000000  0.111   9.390000  0.31   \n",
      "65324   329  1500  1800  218    1    1  290  0.055556  0.000   6.350000  0.26   \n",
      "65325   206   659   608   27    1    0   77  0.000000  0.333  25.549999  0.53   \n",
      "\n",
      "          lt     hc   pr     fo        cs           pi class  \n",
      "0      0.000  0.000  0.0  0.000  0.111111     0.094985     f  \n",
      "1      0.000  1.500  0.0  0.000  0.206826   230.412857     f  \n",
      "2      0.000  2.500  0.0  0.056  0.572174    43.569939     f  \n",
      "3      0.000  0.000  0.0  0.000  1.000000     5.859799     f  \n",
      "4      0.667  0.000  0.0  0.000  0.300494     0.126019     f  \n",
      "...      ...    ...  ...    ...       ...          ...   ...  \n",
      "65321  0.000  0.077  0.0  0.000  0.192308  1745.291260     r  \n",
      "65322  0.000  1.611  0.0  0.000  0.169917    54.629120     r  \n",
      "65323  0.722  0.000  0.0  0.056  0.058908   129.802048     r  \n",
      "65324  0.222  0.500  0.0  0.000  0.103174    53.402840     r  \n",
      "65325  0.222  0.222  0.0  0.167  0.017505   604.981445     r  \n",
      "\n",
      "[64244 rows x 18 columns]\n"
     ]
    }
   ],
   "source": [
    "#11\n",
    "import pandas as pd\n",
    "df = pd.read_csv('instagram_users.csv')\n",
    "df_without_duplicates = df.drop_duplicates()\n",
    "print(df_without_duplicates)\n"
   ]
  },
  {
   "cell_type": "code",
   "execution_count": null,
   "id": "2845e12f-bb58-485a-a30b-52a448eb60d2",
   "metadata": {},
   "outputs": [],
   "source": [
    "#12\n",
    "import pandas as pd\n",
    "df = pd.read_csv('instagram_users.csv')\n",
    "df_without_duplicates = df.drop_duplicates()\n",
    "num_rows_without_duplicates, num_cols_without_duplicates = df_without_duplicates.shape\n",
    "print(\"Number of rows after removing duplicates:\", num_rows_without_duplicates)\n",
    "print(\"Number of columns after removing duplicates:\", num_cols_without_duplicates)\n"
   ]
  },
  {
   "cell_type": "code",
   "execution_count": 21,
   "id": "62569223-b506-4b92-8f3b-7d4607e9edff",
   "metadata": {},
   "outputs": [
    {
     "name": "stdout",
     "output_type": "stream",
     "text": [
      "   Num_posts  Num_following  Num_followers  Picture_availability  \\\n",
      "0         10            200            300                     1   \n",
      "1         25            500            100                     1   \n",
      "2         12            300            250                     0   \n",
      "\n",
      "   Link_availability  Average_caption_length  Caption_zero  \\\n",
      "0                  1                      15           0.2   \n",
      "1                  1                      20           0.1   \n",
      "2                  0                      12           0.3   \n",
      "\n",
      "   Non_image_percentage  Engagement_rate_like  Engagement_rate_comment  \\\n",
      "0                   0.5                   0.3                      0.4   \n",
      "1                   0.4                   0.2                      0.3   \n",
      "2                   0.6                   0.4                      0.5   \n",
      "\n",
      "   Location_tag_percentage  Average_hashtag_count  Promotional_keywords  \\\n",
      "0                      0.1                     10                   0.2   \n",
      "1                      0.2                     15                   0.3   \n",
      "2                      0.3                      8                   0.1   \n",
      "\n",
      "   Followers_keywords  Cosine_similarity  Post_interval Account_type  \n",
      "0                 0.1                0.5              2         fake  \n",
      "1                 0.2                0.6              1         real  \n",
      "2                 0.3                0.4              3         fake  \n"
     ]
    }
   ],
   "source": [
    "#13\n",
    "import pandas as pd\n",
    "data = {\n",
    "    'pos': [10, 25, 12],\n",
    "    'fig': [200, 500, 300],\n",
    "    'fir': [300, 100, 250],\n",
    "    'pic': [1, 1, 0],\n",
    "    'lin': [1, 1, 0],\n",
    "    'cl': [15, 20, 12],\n",
    "    'CZ': [0.2, 0.1, 0.3],\n",
    "    'ni': [0.5, 0.4, 0.6],\n",
    "    'erl': [0.3, 0.2, 0.4],\n",
    "    'erc': [0.4, 0.3, 0.5],\n",
    "    'It': [0.1, 0.2, 0.3],\n",
    "    'hc': [10, 15, 8],\n",
    "    'pr': [0.2, 0.3, 0.1],\n",
    "    'fo': [0.1, 0.2, 0.3],\n",
    "    'cs': [0.5, 0.6, 0.4],\n",
    "    'pi': [2, 1, 3],\n",
    "    'class': ['fake', 'real', 'fake']\n",
    "}\n",
    "\n",
    "df = pd.DataFrame(data)\n",
    "\n",
    "new_column_names = {\n",
    "    'pos': 'Num_posts',\n",
    "    'fig': 'Num_following',\n",
    "    'fir': 'Num_followers',\n",
    "    'pic': 'Picture_availability',\n",
    "    'lin': 'Link_availability',\n",
    "    'cl': 'Average_caption_length',\n",
    "    'CZ': 'Caption_zero',\n",
    "    'ni': 'Non_image_percentage',\n",
    "    'erl': 'Engagement_rate_like',\n",
    "    'erc': 'Engagement_rate_comment',\n",
    "    'It': 'Location_tag_percentage',\n",
    "    'hc': 'Average_hashtag_count',\n",
    "    'pr': 'Promotional_keywords',\n",
    "    'fo': 'Followers_keywords',\n",
    "    'cs': 'Cosine_similarity',\n",
    "    'pi': 'Post_interval',\n",
    "    'class': 'Account_type'\n",
    "}\n",
    "\n",
    "df = df.rename(columns=new_column_names)\n",
    "\n",
    "df.loc[df['Num_posts'] <= 20, 'Account_type'] = 'fake'\n",
    "df.loc[df['Num_posts'] > 20, 'Account_type'] = 'real'\n",
    "\n",
    "print(df)\n"
   ]
  },
  {
   "cell_type": "code",
   "execution_count": 22,
   "id": "7d01f8f2-f9a8-496a-a4c4-d12eb8337089",
   "metadata": {},
   "outputs": [
    {
     "name": "stdout",
     "output_type": "stream",
     "text": [
      "        pos   flw   flg   bl  pic  lin   cl        cz     ni        erl   erc  \\\n",
      "0        44    48   325   33    1    0   12  0.000000  0.000   0.000000  0.00   \n",
      "1        10    66   321  150    1    0  213  0.000000  1.000  14.390000  1.97   \n",
      "2        33   970   308  101    1    1  436  0.000000  1.000  10.100000  0.30   \n",
      "3        70    86   360   14    1    0    0  1.000000  0.000   0.780000  0.06   \n",
      "4         3    21   285   73    1    0   93  0.000000  0.000  14.290000  0.00   \n",
      "...     ...   ...   ...  ...  ...  ...  ...       ...    ...        ...   ...   \n",
      "65321    13   145   642    0    1    0    7  0.461538  0.000  14.270000  0.58   \n",
      "65322   652  3000  1300  146    1    1  384  0.000000  0.389   8.520000  0.13   \n",
      "65323  1500  3700  3200  147    1    1  129  0.000000  0.111   9.390000  0.31   \n",
      "65324   329  1500  1800  218    1    1  290  0.055556  0.000   6.350000  0.26   \n",
      "65325   206   659   608   27    1    0   77  0.000000  0.333  25.549999  0.53   \n",
      "\n",
      "          lt     hc   pr     fo        cs           pi class  \n",
      "0      0.000  0.000  0.0  0.000  0.111111     0.094985     f  \n",
      "1      0.000  1.500  0.0  0.000  0.206826   230.412857     f  \n",
      "2      0.000  2.500  0.0  0.056  0.572174    43.569939     f  \n",
      "3      0.000  0.000  0.0  0.000  1.000000     5.859799     f  \n",
      "4      0.667  0.000  0.0  0.000  0.300494     0.126019     f  \n",
      "...      ...    ...  ...    ...       ...          ...   ...  \n",
      "65321  0.000  0.077  0.0  0.000  0.192308  1745.291260     r  \n",
      "65322  0.000  1.611  0.0  0.000  0.169917    54.629120     r  \n",
      "65323  0.722  0.000  0.0  0.056  0.058908   129.802048     r  \n",
      "65324  0.222  0.500  0.0  0.000  0.103174    53.402840     r  \n",
      "65325  0.222  0.222  0.0  0.167  0.017505   604.981445     r  \n",
      "\n",
      "[65326 rows x 18 columns]\n"
     ]
    }
   ],
   "source": [
    "#14\n",
    "import pandas as pd\n",
    "df = pd.read_csv('instagram_users.csv')\n",
    "df['class'] = df['class'].replace({1: 'real', 0: 'fake'})\n",
    "print(df)\n"
   ]
  },
  {
   "cell_type": "code",
   "execution_count": 26,
   "id": "ba99a705-85b7-4365-a799-1f0c65f66140",
   "metadata": {},
   "outputs": [
    {
     "name": "stdout",
     "output_type": "stream",
     "text": [
      "No class labels found.\n"
     ]
    }
   ],
   "source": [
    "#15\n",
    "import pandas as pd\n",
    "\n",
    "df = pd.read_csv('instagram_users.csv')\n",
    "\n",
    "account_counts = df['class'].value_counts()\n",
    "\n",
    "if 0 in account_counts.index and 1 in account_counts.index:\n",
    "    df['class'] = df['class'].replace({1: 'real', 0: 'fake'})\n",
    "\n",
    "    account_counts_after_replacement = df['class'].value_counts()\n",
    "\n",
    "    print(\"Total number of fake accounts:\", account_counts_after_replacement.get('fake', 0))\n",
    "    print(\"Total number of real accounts:\", account_counts_after_replacement.get('real', 0))\n",
    "else:\n",
    "    print(\"No class labels found.\")\n",
    "\n"
   ]
  },
  {
   "cell_type": "code",
   "execution_count": 24,
   "id": "8f7f540d-aba4-4a55-910a-16709d8d6344",
   "metadata": {},
   "outputs": [
    {
     "name": "stdout",
     "output_type": "stream",
     "text": [
      "                pos           flw           flg            bl           pic  \\\n",
      "count  65326.000000  6.532600e+04  65326.000000  65326.000000  65326.000000   \n",
      "mean     176.571227  1.183077e+03   2310.519211     57.497061      0.951765   \n",
      "std      723.470655  2.170802e+04   2592.096104     64.129260      0.214264   \n",
      "min        0.000000  0.000000e+00      0.000000      0.000000      0.000000   \n",
      "25%        6.000000  1.230000e+02    394.000000      0.000000      1.000000   \n",
      "50%       30.000000  3.380000e+02    995.000000     32.000000      1.000000   \n",
      "75%      124.000000  8.170000e+02   3600.000000    110.000000      1.000000   \n",
      "max    76200.000000  3.900000e+06   8800.000000    555.000000      1.000000   \n",
      "\n",
      "                lin            cl            cz            ni           erl  \\\n",
      "count  65326.000000  65326.000000  65326.000000  65326.000000  65326.000000   \n",
      "mean       0.281925    136.520344      0.250012      0.193229     19.146641   \n",
      "std        0.449940    215.714486      0.337891      0.252939    121.047570   \n",
      "min        0.000000     -1.000000      0.000000      0.000000      0.000000   \n",
      "25%        0.000000      8.000000      0.000000      0.000000      2.730000   \n",
      "50%        0.000000     46.000000      0.055556      0.059000      9.450000   \n",
      "75%        1.000000    170.000000      0.444444      0.333000     18.680000   \n",
      "max        1.000000   3644.000000      1.000000      1.000000  26650.000000   \n",
      "\n",
      "                erc            lt            hc            pr            fo  \\\n",
      "count  65326.000000  65326.000000  65326.000000  65326.000000  65326.000000   \n",
      "mean       1.139421      0.208877      0.507796      0.032745      0.052837   \n",
      "std        5.810627      0.300362      1.156921      0.220987      0.519058   \n",
      "min        0.000000      0.000000      0.000000      0.000000      0.000000   \n",
      "25%        0.080000      0.000000      0.000000      0.000000      0.000000   \n",
      "50%        0.440000      0.000000      0.077000      0.000000      0.000000   \n",
      "75%        1.040000      0.333000      0.611000      0.000000      0.000000   \n",
      "max     1009.090027      1.000000     30.000000     20.000000     58.000000   \n",
      "\n",
      "                 cs            pi  \n",
      "count  65326.000000  65326.000000  \n",
      "mean       0.299098    496.475193  \n",
      "std        0.349604    944.905389  \n",
      "min        0.000000      0.000000  \n",
      "25%        0.033327     24.571458  \n",
      "50%        0.136915    183.227943  \n",
      "75%        0.456342    580.771927  \n",
      "max        1.000000  26786.134766  \n"
     ]
    }
   ],
   "source": [
    "#16\n",
    "import pandas as pd\n",
    "df = pd.read_csv('instagram_users.csv')\n",
    "statistics = df.describe()\n",
    "print(statistics)\n"
   ]
  },
  {
   "cell_type": "code",
   "execution_count": null,
   "id": "614b9562-de84-46c0-b223-00e17c223ce3",
   "metadata": {},
   "outputs": [],
   "source": []
  }
 ],
 "metadata": {
  "kernelspec": {
   "display_name": "Python 3 (ipykernel)",
   "language": "python",
   "name": "python3"
  },
  "language_info": {
   "codemirror_mode": {
    "name": "ipython",
    "version": 3
   },
   "file_extension": ".py",
   "mimetype": "text/x-python",
   "name": "python",
   "nbconvert_exporter": "python",
   "pygments_lexer": "ipython3",
   "version": "3.11.7"
  }
 },
 "nbformat": 4,
 "nbformat_minor": 5
}
